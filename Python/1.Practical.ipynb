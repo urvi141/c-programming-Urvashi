{
  "metadata": {
    "language_info": {
      "codemirror_mode": {
        "name": "python",
        "version": 3
      },
      "file_extension": ".py",
      "mimetype": "text/x-python",
      "name": "python",
      "nbconvert_exporter": "python",
      "pygments_lexer": "ipython3",
      "version": "3.8"
    },
    "kernelspec": {
      "name": "python",
      "display_name": "Python (Pyodide)",
      "language": "python"
    }
  },
  "nbformat_minor": 4,
  "nbformat": 4,
  "cells": [
    {
      "cell_type": "code",
      "source": "\"\"\"\nprint is an in built function in python\nusing of print we can display appropriate message on console screen\n\nsyntax :\n\nprint(meassage)\n\n\"\"\"\nprint(\"hello\")",
      "metadata": {
        "trusted": true
      },
      "execution_count": 1,
      "outputs": [
        {
          "name": "stdout",
          "text": "hello\n",
          "output_type": "stream"
        }
      ]
    },
    {
      "cell_type": "code",
      "source": "\"\"\"\nvariable : A name which can store value\n\nin python there is no need to declare any variable here....\n\nsyntax :\n\nvar = value\n\n\n\"\"\"",
      "metadata": {},
      "execution_count": null,
      "outputs": []
    },
    {
      "cell_type": "code",
      "source": "name = \"Python\"\nprint(name)",
      "metadata": {
        "trusted": true
      },
      "execution_count": 2,
      "outputs": [
        {
          "name": "stdout",
          "text": "Python\n",
          "output_type": "stream"
        }
      ]
    },
    {
      "cell_type": "code",
      "source": "num1 = 10\nnum2 = 20\n\nprint(num1 + num2)\n",
      "metadata": {
        "trusted": true
      },
      "execution_count": 3,
      "outputs": [
        {
          "name": "stdout",
          "text": "30\n",
          "output_type": "stream"
        }
      ]
    },
    {
      "cell_type": "code",
      "source": "\"\"\"\ndynamic data - accept values from user\n\ninput() : using of input function we can accept value from user by default it accept value in string format.\n\nsyntax :\n\ninput(\"appropraite message\")\n\"\"\"\n\nname = input(\"Enter your name\")\nprint(name)\n",
      "metadata": {
        "trusted": true
      },
      "execution_count": 4,
      "outputs": [
        {
          "name": "stdout",
          "text": "<Future pending>\n",
          "output_type": "stream"
        },
        {
          "output_type": "stream",
          "name": "stdin",
          "text": "Enter your name Urvashi\n"
        }
      ]
    },
    {
      "cell_type": "code",
      "source": "month = 36\nyear = month/12\n\nprint(year)\n",
      "metadata": {
        "trusted": true
      },
      "execution_count": 5,
      "outputs": [
        {
          "name": "stdout",
          "text": "3.0\n",
          "output_type": "stream"
        }
      ]
    },
    {
      "cell_type": "code",
      "source": "principal = 10000\nrate = 5\ntime = 3\nn = 100\nsi = principal * rate * time/n\n\nprint(si)\n",
      "metadata": {
        "trusted": true
      },
      "execution_count": 6,
      "outputs": [
        {
          "name": "stdout",
          "text": "1500.0\n",
          "output_type": "stream"
        }
      ]
    },
    {
      "cell_type": "code",
      "source": "month = 36\nyear = month/12\ndays = month/30\n\nprint(year)\nprint(days)\n",
      "metadata": {
        "trusted": true
      },
      "execution_count": 10,
      "outputs": [
        {
          "name": "stdout",
          "text": "3.0\n1.2\n",
          "output_type": "stream"
        }
      ]
    },
    {
      "cell_type": "code",
      "source": "days = 30\nhours = 20 * 24\nminutes = hours * 60\nseconds = minutes * 60\n\nprint(hours)\nprint(minutes)\nprint(seconds)\n",
      "metadata": {
        "trusted": true
      },
      "execution_count": 14,
      "outputs": [
        {
          "name": "stdout",
          "text": "480\n28800\n1728000\n",
          "output_type": "stream"
        }
      ]
    }
  ]
}